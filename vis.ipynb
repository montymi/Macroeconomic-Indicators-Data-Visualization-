{
    "cells": [
        {
            "cell_type": "code",
            "execution_count": null,
            "source": [
                "import pandas as pd\n",
                "import plotly.express as px\n",
                "import dash\n",
                "import dash_core_components as dcc\n",
                "import dash_html_components as html\n",
                "from dash.dependencies import Input, Output"
            ],
            "outputs": [],
            "metadata": {}
        },
        {
            "cell_type": "code",
            "execution_count": null,
            "source": [],
            "outputs": [],
            "metadata": {}
        }
    ],
    "metadata": {
        "orig_nbformat": 4,
        "language_info": {
            "name": "plaintext"
        }
    },
    "nbformat": 4,
    "nbformat_minor": 2
}